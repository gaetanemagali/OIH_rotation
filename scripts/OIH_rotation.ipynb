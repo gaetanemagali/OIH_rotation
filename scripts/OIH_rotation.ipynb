{
 "cells": [
  {
   "cell_type": "code",
   "execution_count": 1,
   "id": "9741cb59-7f1c-41b6-9df5-5638f4d13aa8",
   "metadata": {},
   "outputs": [
    {
     "name": "stdout",
     "output_type": "stream",
     "text": [
      "Requirement already satisfied: pandas in /Users/gaetanemagali/opt/anaconda3/lib/python3.9/site-packages (1.4.4)\n",
      "Collecting pyarrow\n",
      "  Downloading pyarrow-16.1.0-cp39-cp39-macosx_10_15_x86_64.whl (28.4 MB)\n",
      "\u001b[2K     \u001b[90m━━━━━━━━━━━━━━━━━━━━━━━━━━━━━━━━━━━━━━━━\u001b[0m \u001b[32m28.4/28.4 MB\u001b[0m \u001b[31m2.6 MB/s\u001b[0m eta \u001b[36m0:00:00\u001b[0m00:01\u001b[0m00:01\u001b[0m\n",
      "\u001b[?25hCollecting SPARQLWrapper\n",
      "  Downloading SPARQLWrapper-2.0.0-py3-none-any.whl (28 kB)\n",
      "Collecting rdflib\n",
      "  Downloading rdflib-7.0.0-py3-none-any.whl (531 kB)\n",
      "\u001b[2K     \u001b[90m━━━━━━━━━━━━━━━━━━━━━━━━━━━━━━━━━━━━━━━\u001b[0m \u001b[32m531.9/531.9 kB\u001b[0m \u001b[31m5.6 MB/s\u001b[0m eta \u001b[36m0:00:00\u001b[0ma \u001b[36m0:00:01\u001b[0m\n",
      "\u001b[?25hRequirement already satisfied: python-dateutil>=2.8.1 in /Users/gaetanemagali/opt/anaconda3/lib/python3.9/site-packages (from pandas) (2.8.2)\n",
      "Requirement already satisfied: pytz>=2020.1 in /Users/gaetanemagali/opt/anaconda3/lib/python3.9/site-packages (from pandas) (2022.1)\n",
      "Requirement already satisfied: numpy>=1.18.5 in /Users/gaetanemagali/opt/anaconda3/lib/python3.9/site-packages (from pandas) (1.21.5)\n",
      "Requirement already satisfied: pyparsing<4,>=2.1.0 in /Users/gaetanemagali/opt/anaconda3/lib/python3.9/site-packages (from rdflib) (3.0.9)\n",
      "Collecting isodate<0.7.0,>=0.6.0\n",
      "  Downloading isodate-0.6.1-py2.py3-none-any.whl (41 kB)\n",
      "\u001b[2K     \u001b[90m━━━━━━━━━━━━━━━━━━━━━━━━━━━━━━━━━━━━━━━━\u001b[0m \u001b[32m41.7/41.7 kB\u001b[0m \u001b[31m3.7 MB/s\u001b[0m eta \u001b[36m0:00:00\u001b[0m\n",
      "\u001b[?25hRequirement already satisfied: six in /Users/gaetanemagali/opt/anaconda3/lib/python3.9/site-packages (from isodate<0.7.0,>=0.6.0->rdflib) (1.16.0)\n",
      "Installing collected packages: pyarrow, isodate, rdflib, SPARQLWrapper\n",
      "Successfully installed SPARQLWrapper-2.0.0 isodate-0.6.1 pyarrow-16.1.0 rdflib-7.0.0\n"
     ]
    }
   ],
   "source": [
    "!pip install pandas pyarrow SPARQLWrapper rdflib"
   ]
  },
  {
   "cell_type": "code",
   "execution_count": 71,
   "id": "bd64d8cf-c893-486a-981e-c5e372be5d9d",
   "metadata": {},
   "outputs": [],
   "source": [
    "import pandas as pd #data manipulation and analysis library that provides data structures like DataFrames to work with structured data\n",
    "import pyarrow #enables reading and writing of Parquet files\n",
    "from SPARQLWrapper import SPARQLWrapper, JSON #execute SPARQL queries\n",
    "import rdflib #querying of RDF data, including JSON-LD\n",
    "import json #library for parsing, generating, and manipulating JSON\n",
    "import subprocess # run shell commmands\n",
    "import os #interact with the operating system\n",
    "import re  # Import the regular expression module\n"
   ]
  },
  {
   "cell_type": "code",
   "execution_count": 58,
   "id": "cd110afc-2210-40ea-90ce-79690d35258c",
   "metadata": {},
   "outputs": [
    {
     "name": "stdout",
     "output_type": "stream",
     "text": [
      "               identifier                                           taxonomy\n",
      "0         BD359735.3.2145  Eukaryota;SAR;Alveolata;Apicomplexa;Aconoidasi...\n",
      "1      HL196872.5744.7271  Eukaryota;SAR;Stramenopiles;Labyrinthulomycete...\n",
      "2         AY855839.1.1390  Bacteria;Proteobacteria;Alphaproteobacteria;Ri...\n",
      "3         FW343016.1.1511  Bacteria;Firmicutes;Bacilli;Lactobacillales;Ca...\n",
      "4  AY835431.189876.191345  Bacteria;Cyanobacteria;Cyanobacteriia;Chloropl...\n"
     ]
    }
   ],
   "source": [
    "# Load Silva Database Taxonomy file\n",
    "tsv_file = '/Users/gaetanemagali/OIH_rotation/documentation/TAXONOMY_SILVA.tsv'\n",
    "\n",
    "# Read the file line by line\n",
    "identifiers = []\n",
    "taxonomies = []\n",
    "\n",
    "with open(tsv_file, 'r') as file:\n",
    "    for line in file:\n",
    "        parts = line.strip().split(maxsplit=1)  # Split by first space\n",
    "        if len(parts) == 2:\n",
    "            identifiers.append(parts[0])\n",
    "            taxonomies.append(parts[1])\n",
    "\n",
    "# Create a DataFrame\n",
    "silva_taxa = pd.DataFrame({\n",
    "    'identifier': identifiers,\n",
    "    'taxonomy': taxonomies\n",
    "})\n",
    "\n",
    "# Display the first few rows to inspect the structure\n",
    "print(silva_taxa.head())\n"
   ]
  },
  {
   "cell_type": "code",
   "execution_count": 60,
   "id": "4d267dd3-4074-43e1-b2f4-3350b36d535a",
   "metadata": {},
   "outputs": [],
   "source": [
    "# Ensure the 'taxonomy' column is correctly populated\n",
    "silva_taxa['taxonomy'] = silva_taxa['taxonomy'].astype(str)"
   ]
  },
  {
   "cell_type": "code",
   "execution_count": 62,
   "id": "630b1cc3-7988-4c27-ae90-c846adc43494",
   "metadata": {},
   "outputs": [],
   "source": [
    "# Split the taxonomy column into individual taxonomic levels\n",
    "silva_taxa['taxonomy'] = silva_taxa['taxonomy'].str.split(';')"
   ]
  },
  {
   "cell_type": "code",
   "execution_count": 92,
   "id": "fc51a231-3baf-4e10-ac65-3a5bffface7a",
   "metadata": {},
   "outputs": [],
   "source": [
    "def clean_taxon(taxon):\n",
    "    cleaned_taxon = taxon.strip().lower().replace('[', '').replace(']', '').replace(\"'\", \"\").replace('\"', '')\n",
    "    cleaned_taxon = re.sub(r'[^a-z\\s-]', '', cleaned_taxon)  # Remove non-alphabetic characters except spaces and hyphens\n",
    "    if cleaned_taxon:  # Check if cleaned_taxon is not empty\n",
    "        first_part = cleaned_taxon.split()[0]  # Keep only the first part before any space\n",
    "        # Filter out names with unwanted characters or patterns\n",
    "        if not re.search(r'[-]', first_part):  # Exclude names with hyphens\n",
    "            return first_part\n",
    "    return \"\""
   ]
  },
  {
   "cell_type": "code",
   "execution_count": 93,
   "id": "2057209c-65c1-4df7-aeea-262fdb882fff",
   "metadata": {},
   "outputs": [],
   "source": [
    "unique_taxa = set()\n",
    "for taxa_list in silva_taxa['taxonomy']:\n",
    "    for taxon in taxa_list:\n",
    "        cleaned_taxon = clean_taxon(taxon)\n",
    "        if cleaned_taxon and not re.search(r'\\d', cleaned_taxon):  # Filter out names with numbers\n",
    "            unique_taxa.add(cleaned_taxon)"
   ]
  },
  {
   "cell_type": "code",
   "execution_count": 94,
   "id": "46aa81a0-273c-477b-9f24-0b54c9b487f2",
   "metadata": {},
   "outputs": [],
   "source": [
    "# Convert to a sorted list\n",
    "unique_taxa = sorted(unique_taxa)"
   ]
  },
  {
   "cell_type": "code",
   "execution_count": 95,
   "id": "d4cad856-30dd-4c6d-80bf-2ec87a7f3ba4",
   "metadata": {},
   "outputs": [],
   "source": [
    "# Save to a new text file\n",
    "output_folder = '/Users/gaetanemagali/OIH_rotation/documentation'\n",
    "output_file = os.path.join(output_folder, 'unique_taxa_cleaned.txt')\n",
    "\n",
    "with open(output_file, 'w') as f:\n",
    "    for taxon in unique_taxa:\n",
    "        f.write(f\"{taxon}\\n\")"
   ]
  },
  {
   "cell_type": "code",
   "execution_count": null,
   "id": "131c3f88-a0a9-435a-b6e4-62bde0b586c3",
   "metadata": {},
   "outputs": [],
   "source": []
  },
  {
   "cell_type": "code",
   "execution_count": 4,
   "id": "374f30de-34a8-4961-8061-80430d2b1579",
   "metadata": {},
   "outputs": [],
   "source": [
    "# endpoint where the data is stored, such as the ODIS graph:\n",
    "sparql = SPARQLWrapper(\"http://graph.oceaninfohub.org/blazegraph/namespace/oih/sparql\")"
   ]
  },
  {
   "cell_type": "code",
   "execution_count": null,
   "id": "45102dd9-aac2-4e6a-8b44-ec85b7f6fe4a",
   "metadata": {},
   "outputs": [],
   "source": [
    "# Restricted search to datasets \n",
    "SELECT ?dataset ?scientificName WHERE {\n",
    "  ?dataset a dwc:Dataset .\n",
    "  ?dataset dwc:scientificName ?scientificName .\n",
    "  FILTER(?scientificName IN (/* List of microbial names from SILVA and WoRMS */))\n",
    "}"
   ]
  },
  {
   "cell_type": "code",
   "execution_count": null,
   "id": "bdf1edaf-45f1-4337-ae47-8630d043bf27",
   "metadata": {},
   "outputs": [],
   "source": [
    "#Define which vocabulary we are using to scan through metadata\n",
    "PREFIX dwc: <http://rs.tdwg.org/dwc/terms/> #Darwin Code\n",
    "PREFIX schema: <http://schema.org/> #schema.org "
   ]
  },
  {
   "cell_type": "code",
   "execution_count": null,
   "id": "26d75228-1c61-435d-b0c8-32d3ab9db322",
   "metadata": {},
   "outputs": [],
   "source": [
    "#For reference - triage of relevant DwC vocab\n",
    "\n",
    "#dwc:acceptedNameUsage\n",
    " #dwc:acceptedNameUsageID\n",
    " #dwc:associatedSequences\n",
    " #dwc:associatedTaxa\n",
    " #dwc:bed\n",
    " #dwciri:behavior / dwc:behavior\n",
    " #dwc:class\n",
    " #dwc:degreeOfEstablishment\n",
    " #dwc:family\n",
    " #dwc:fieldNotes\n",
    " #dwc:fieldNumber\n",
    " #dwc:genericName\n",
    " #dwc:genus\n",
    " #dwc:GeologicalContext\n",
    " #dwc:habitat\n",
    " #dwc:higherClassification\n",
    " #dwc:identifiedBy\n",
    " #dwc:informationWithheld\n",
    " #dwc:kingdom\n",
    " #dc:language\n",
    " #dwc:MaterialEntity\n",
    " #dwc:MaterialSample (cross-links to New Pattern: Samples #376)\n",
    " #dwc:materialSampleID\n",
    " #dwc:nomenclaturalCode\n",
    " #dwc:Occurrence\n",
    " #dwc:occurrenceDetails\n",
    " #dwc:occurrenceRemarks\n",
    " #dwc:order\n",
    " #dwc:originalNameUsage\n",
    " #dwc:phylum\n",
    " #dwc:scientificName\n",
    " #dwc:superfamily\n",
    " #dwc:taxonAttributes\n",
    " #dwc:taxonID\n",
    " #dwc:verbatimIdentification\n",
    " #dwc:vernacularName\n",
    "#Map to schema.org properties\n",
    "#\n",
    " #dwc:accessRights\n",
    " #dwc:associatedMedia\n",
    " #dwc:associatedReferences\n",
    " #dcterms:bibliographicCitation\n",
    " #dwc:continent\n",
    " #dwc:country / dwc:countryCode\n",
    " #dwc:county\n",
    " #dwc:dataGeneralizations (to additonal description or similar)\n",
    " #dwc:datasetID\n",
    " #dwc:datasetName\n",
    " #dwc:day\n",
    " #dwc:endDayOfYear\n",
    " #dwc:establishmentMeans\n",
    " #dwc:eventDate\n",
    " #dwc:eventID\n",
    " #dwc:eventRemarks (comment or description on schema:Event)\n",
    " #dwc:eventTime\n",
    " #dwc:GeologicalContext\n",
    " #dwc:higherGeography\n",
    " #dwciri:inDataset (subjectOf)\n",
    " #dwc:institutionCode\n",
    " #dwc:institutionID\n",
    " #dcterms:license\n",
    " #dwc:measurementMethod\n",
    " #dcterms:modified (sd properties)\n",
    " #dwc:month\n",
    " #dcterms:references\n",
    " #dwc:relatedResourceID\n",
    " #dcterms:rights\n",
    " #dcterms:rightsHolder\n",
    " #dwc:startDayOfYear\n",
    " #dc:type\n",
    " #dwc:year\n",
    "#\n",
    "#\n",
    "##For Spatial Mapping to GeoJSON or schema.org spatial properties\n",
    "##dwc:coordinatePrecision\n",
    " #dwc:coordinateUncertaintyInMeters\n",
    " #dwc:decimalLatitude\n",
    " #dwc:decimalLongitude\n",
    " #dwc:footprintSRS\n",
    " #dwc:footprintWKT\n",
    " #dwc:geodeticDatum\n",
    " #dwc:locality\n",
    " #dwc:locationRemarks\n",
    " #dwc:maximumDepthInMeters (xref Depth representation conventions #377)\n",
    " #dwc:maximumDistanceAboveSurfaceInMeters\n",
    " #dwc:maximumElevationInMeters\n",
    " #dwc:minimumDepthInMeters\n",
    " #dwc:minimumDistanceAboveSurfaceInMeters\n",
    " #dwc:minimumElevationInMeters\n",
    " #dwc:municipality\n",
    " #dwc:stateProvince\n",
    " #dwc:verbatimCoordinates\n",
    " #dwc:verbatimCoordinateSystem\n",
    " #dwc:verbatimDepth\n",
    " #dwc:verbatimElevation\n",
    " #dwc:verbatimEventDate\n",
    " #dwc:verbatimLatitude\n",
    " #dwc:verbatimLocality\n",
    " #dwc:verbatimLongitude\n",
    " #dwc:verbatimSRS\n",
    " #dwc:verticalDatum\n",
    " #dwc:waterBody\n"
   ]
  },
  {
   "cell_type": "code",
   "execution_count": null,
   "id": "c06d8d82-2fcd-4135-aa29-e3f39943bdc3",
   "metadata": {},
   "outputs": [],
   "source": [
    "#First let us define a list of DwC terms relevant to microbial taxonomy\n",
    "\n",
    "SELECT ?taxonID ?scientificName ?kingdom ?phylum ?class ?order ?family ?genus ?acceptedNameUsage ?higherClassification\n",
    "WHERE {\n",
    "  ?taxon dwc:taxonID ?taxonID;\n",
    "         dwc:scientificName ?scientificName;\n",
    "         dwc:kingdom ?kingdom;\n",
    "         dwc:phylum ?phylum;\n",
    "         dwc:class ?class;\n",
    "         dwc:order ?order;\n",
    "         dwc:family ?family;\n",
    "         dwc:genus ?genus;\n",
    "         dwc:acceptedNameUsage ?acceptedNameUsage;\n",
    "         dwc:higherClassification ?higherClassification.\n",
    "}\n",
    "\"\"\""
   ]
  }
 ],
 "metadata": {
  "kernelspec": {
   "display_name": "Python 3 (ipykernel)",
   "language": "python",
   "name": "python3"
  },
  "language_info": {
   "codemirror_mode": {
    "name": "ipython",
    "version": 3
   },
   "file_extension": ".py",
   "mimetype": "text/x-python",
   "name": "python",
   "nbconvert_exporter": "python",
   "pygments_lexer": "ipython3",
   "version": "3.9.13"
  }
 },
 "nbformat": 4,
 "nbformat_minor": 5
}
