{
 "cells": [
  {
   "cell_type": "code",
   "execution_count": 1,
   "id": "9741cb59-7f1c-41b6-9df5-5638f4d13aa8",
   "metadata": {},
   "outputs": [
    {
     "name": "stdout",
     "output_type": "stream",
     "text": [
      "Requirement already satisfied: pandas in /Users/gaetanemagali/opt/anaconda3/lib/python3.9/site-packages (1.4.4)\n",
      "Collecting pyarrow\n",
      "  Downloading pyarrow-16.1.0-cp39-cp39-macosx_10_15_x86_64.whl (28.4 MB)\n",
      "\u001b[2K     \u001b[90m━━━━━━━━━━━━━━━━━━━━━━━━━━━━━━━━━━━━━━━━\u001b[0m \u001b[32m28.4/28.4 MB\u001b[0m \u001b[31m2.6 MB/s\u001b[0m eta \u001b[36m0:00:00\u001b[0m00:01\u001b[0m00:01\u001b[0m\n",
      "\u001b[?25hCollecting SPARQLWrapper\n",
      "  Downloading SPARQLWrapper-2.0.0-py3-none-any.whl (28 kB)\n",
      "Collecting rdflib\n",
      "  Downloading rdflib-7.0.0-py3-none-any.whl (531 kB)\n",
      "\u001b[2K     \u001b[90m━━━━━━━━━━━━━━━━━━━━━━━━━━━━━━━━━━━━━━━\u001b[0m \u001b[32m531.9/531.9 kB\u001b[0m \u001b[31m5.6 MB/s\u001b[0m eta \u001b[36m0:00:00\u001b[0ma \u001b[36m0:00:01\u001b[0m\n",
      "\u001b[?25hRequirement already satisfied: python-dateutil>=2.8.1 in /Users/gaetanemagali/opt/anaconda3/lib/python3.9/site-packages (from pandas) (2.8.2)\n",
      "Requirement already satisfied: pytz>=2020.1 in /Users/gaetanemagali/opt/anaconda3/lib/python3.9/site-packages (from pandas) (2022.1)\n",
      "Requirement already satisfied: numpy>=1.18.5 in /Users/gaetanemagali/opt/anaconda3/lib/python3.9/site-packages (from pandas) (1.21.5)\n",
      "Requirement already satisfied: pyparsing<4,>=2.1.0 in /Users/gaetanemagali/opt/anaconda3/lib/python3.9/site-packages (from rdflib) (3.0.9)\n",
      "Collecting isodate<0.7.0,>=0.6.0\n",
      "  Downloading isodate-0.6.1-py2.py3-none-any.whl (41 kB)\n",
      "\u001b[2K     \u001b[90m━━━━━━━━━━━━━━━━━━━━━━━━━━━━━━━━━━━━━━━━\u001b[0m \u001b[32m41.7/41.7 kB\u001b[0m \u001b[31m3.7 MB/s\u001b[0m eta \u001b[36m0:00:00\u001b[0m\n",
      "\u001b[?25hRequirement already satisfied: six in /Users/gaetanemagali/opt/anaconda3/lib/python3.9/site-packages (from isodate<0.7.0,>=0.6.0->rdflib) (1.16.0)\n",
      "Installing collected packages: pyarrow, isodate, rdflib, SPARQLWrapper\n",
      "Successfully installed SPARQLWrapper-2.0.0 isodate-0.6.1 pyarrow-16.1.0 rdflib-7.0.0\n"
     ]
    }
   ],
   "source": [
    "!pip install pandas pyarrow SPARQLWrapper rdflib"
   ]
  },
  {
   "cell_type": "code",
   "execution_count": 1,
   "id": "bd64d8cf-c893-486a-981e-c5e372be5d9d",
   "metadata": {},
   "outputs": [],
   "source": [
    "import pandas as pd #data manipulation and analysis library that provides data structures like DataFrames to work with structured data\n",
    "import pyarrow #enables reading and writing of Parquet files\n",
    "from SPARQLWrapper import SPARQLWrapper, JSON #execute SPARQL queries\n",
    "import rdflib #querying of RDF data, including JSON-LD\n",
    "import json #library for parsing, generating, and manipulating JSON\n",
    "import subprocess # run shell commmands\n",
    "import os #interact with the operating system\n",
    "import re  # Import the regular expression module\n"
   ]
  },
  {
   "cell_type": "code",
   "execution_count": 14,
   "id": "97695361-5a94-4794-86c4-2f04fab469f4",
   "metadata": {},
   "outputs": [],
   "source": [
    "silva_taxa = '/Users/gaetanemagali/OIH_rotation/datafiles' #curated files of most common marine microbial taxa "
   ]
  },
  {
   "cell_type": "code",
   "execution_count": 15,
   "id": "bc918177-f63f-44c2-a8f9-4970d77b5ec0",
   "metadata": {},
   "outputs": [],
   "source": [
    "taxa_values = ' '.join([f'\"{taxon}\"' for taxon in silva_taxa])"
   ]
  },
  {
   "cell_type": "code",
   "execution_count": 16,
   "id": "374f30de-34a8-4961-8061-80430d2b1579",
   "metadata": {},
   "outputs": [],
   "source": [
    "# endpoint where the data is stored, such as the ODIS graph:\n",
    "endpoint = \"http://graph.oceaninfohub.org/blazegraph/namespace/oih/sparql\""
   ]
  },
  {
   "cell_type": "code",
   "execution_count": null,
   "id": "6af56036-2173-495a-baff-48d36573c28d",
   "metadata": {},
   "outputs": [],
   "source": [
    "#Template of the SPARQL query\n",
    "#Dwc = Darwin Code\n",
    "#schema.org dataset\n",
    "#\"\"\" allowing to write multi-line query\n",
    "#LCASE : performs case-insensitive comparisons and REGEX for complex pattern matching such as plural/singular forms and other text patterns \n",
    "#If taxonomy is available, then it will be included in the result, if not, then the query still returns a results without those fields\n",
    "#The marine or microbial entity must be matched for the \"marine microorganism\" to be valid\n",
    "\n",
    "sparql_microbe_query = \"\"\" \n",
    "SELECT ?dataset ?associatedTaxa ?class ?family ?genericName ?genus ?higherClassification ?kingdom ?order ?phylum ?scientificName ?superfamily ?taxonAttributes ?verbatimIdentification ?associatedSequences ?acceptedNameUsageID ?acceptedNameUsage ?GeologicalContext ?Occurrence ?habitat ?occurrenceRemarks ?occurrenceDetails ?MaterialEntity ?MaterialSample\n",
    "\n",
    "WHERE {{\n",
    "  VALUES ?taxa {{ {taxa_values} }}\n",
    "  ?dataset a schema:Dataset ;\n",
    "           dwc:scientificName ?scientificName ;\n",
    "           OPTIONAL {{ ?dataset dwc:class ?class }} ;\n",
    "           OPTIONAL {{ ?dataset dwc:family ?family }} ;\n",
    "           OPTIONAL {{ ?dataset dwc:genericName ?genericName }} ;\n",
    "           OPTIONAL {{ ?dataset dwc:genus ?genus }} ;\n",
    "           OPTIONAL {{ ?dataset dwc:higherClassification ?higherClassification }} ;\n",
    "           OPTIONAL {{ ?dataset dwc:kingdom ?kingdom }} ;\n",
    "           OPTIONAL {{ ?dataset dwc:order ?order }} ;\n",
    "           OPTIONAL {{ ?dataset dwc:phylum ?phylum }} ;\n",
    "           OPTIONAL {{ ?dataset dwc:superfamily ?superfamily }} ;\n",
    "           OPTIONAL {{ ?dataset dwc:taxonAttributes ?taxonAttributes }} ;\n",
    "           OPTIONAL {{ ?dataset dwc:verbatimIdentification ?verbatimIdentification }} ;\n",
    "           OPTIONAL {{ ?dataset dwc:associatedSequences ?associatedSequences }} ;\n",
    "           OPTIONAL {{ ?dataset dwc:acceptedNameUsageID ?acceptedNameUsageID }} ;\n",
    "           OPTIONAL {{ ?dataset dwc:acceptedNameUsage ?acceptedNameUsage }} ;\n",
    "           OPTIONAL {{ ?dataset dwc:GeologicalContext ?GeologicalContext }} ;\n",
    "           OPTIONAL {{ ?dataset dwc:Occurrence ?Occurrence }} ;\n",
    "           OPTIONAL {{ ?dataset dwc:habitat ?habitat }} ;\n",
    "           OPTIONAL {{ ?dataset dwc:occurrenceRemarks ?occurrenceRemarks }} ;\n",
    "           OPTIONAL {{ ?dataset dwc:occurrenceDetails ?occurrenceDetails }} ;\n",
    "           OPTIONAL {{ ?dataset dwc:MaterialEntity ?MaterialEntity }} ;\n",
    "           OPTIONAL {{ ?dataset dwc:MaterialSample ?MaterialSample }} .\n",
    "  FILTER (\n",
    "    LCASE(?scientificName) IN ({taxa_values}) &&\n",
    "    LCASE(?habitat) IN (\"marine\", \"pelagic\", \"oceanic\", \"maritime\", \"coastal\", \"seafaring\", \"littoral\", \"benthic\", \"abyssal\", \"planktonic\", \"bathyal\", \"epipelagic\", \"mesopelagic\", \"upwelling\", \"downwelling\", \"saltwater\", \"gyre\", \"MPA\") &&\n",
    "    REGEX(LCASE(?MaterialEntity), \"microbe|bacteria|bacterium|bacillus|microflora|microbial|prokaryote|protist|archaea|microorganism\")\n",
    "  )\n",
    "}}\n",
    "\"\"\"\n"
   ]
  },
  {
   "cell_type": "code",
   "execution_count": null,
   "id": "bdf1edaf-45f1-4337-ae47-8630d043bf27",
   "metadata": {},
   "outputs": [],
   "source": [
    "# Set up the SPARQLWrapper\n",
    "sparql = SPARQLWrapper(sparql_endpoint)\n",
    "sparql.setQuery(sparql_microbe_query)\n",
    "sparql.setReturnFormat(JSON)"
   ]
  },
  {
   "cell_type": "code",
   "execution_count": null,
   "id": "74135b8c-d488-461a-b401-668b4df81cee",
   "metadata": {},
   "outputs": [],
   "source": [
    "#sparql.query() sends the query to the SPARQL endpoint and retrieves results\n",
    "#convert() processes raw results and converts them to a JSON object, a list of bindings\n",
    "sparql_microbe_query_results = sparql.query().convert()"
   ]
  }
 ],
 "metadata": {
  "kernelspec": {
   "display_name": "Python 3 (ipykernel)",
   "language": "python",
   "name": "python3"
  },
  "language_info": {
   "codemirror_mode": {
    "name": "ipython",
    "version": 3
   },
   "file_extension": ".py",
   "mimetype": "text/x-python",
   "name": "python",
   "nbconvert_exporter": "python",
   "pygments_lexer": "ipython3",
   "version": "3.9.13"
  }
 },
 "nbformat": 4,
 "nbformat_minor": 5
}
